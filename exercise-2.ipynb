{
 "cells": [
  {
   "cell_type": "code",
   "execution_count": 3,
   "metadata": {
    "autoscroll": false,
    "ein.hycell": false,
    "ein.tags": "worksheet-0",
    "slideshow": {
     "slide_type": "-"
    }
   },
   "outputs": [],
   "source": [
    "import matplotlib.pyplot as plt\n",
    "plt.rcParams['figure.figsize'] = [14, 10]"
   ]
  },
  {
   "cell_type": "code",
   "execution_count": 31,
   "metadata": {
    "autoscroll": false,
    "ein.hycell": false,
    "ein.tags": "worksheet-0",
    "slideshow": {
     "slide_type": "-"
    }
   },
   "outputs": [],
   "source": [
    "import seaborn as sns\n",
    "import numpy as np\n",
    "import pandas as pd\n",
    "from sklearn import metrics\n",
    "from sklearn.model_selection import cross_val_score\n",
    "from sklearn.naive_bayes import MultinomialNB\n",
    "from sklearn.linear_model import LogisticRegression\n",
    "from sklearn.decomposition import TruncatedSVD\n",
    "from sklearn.manifold import TSNE, MDS\n",
    "from bs4 import BeautifulSoup\n",
    "from sklearn.feature_extraction.text import TfidfVectorizer, CountVectorizer\n",
    "\n",
    "def preprocess(s):\n",
    "    s = BeautifulSoup(s, 'html5lib').get_text()\n",
    "    s = ' '.join(s.split())\n",
    "    s = s.strip().lower()\n",
    "    return s"
   ]
  },
  {
   "cell_type": "code",
   "execution_count": 5,
   "metadata": {
    "autoscroll": false,
    "ein.hycell": false,
    "ein.tags": "worksheet-0",
    "slideshow": {
     "slide_type": "-"
    }
   },
   "outputs": [],
   "source": [
    "# load and randomize\n",
    "\n",
    "yelps = pd.read_csv('yelps.csv').sample(frac=1.)\n",
    "movies = pd.read_csv('movies.csv').sample(frac=1.)"
   ]
  },
  {
   "cell_type": "markdown",
   "metadata": {
    "ein.tags": "worksheet-0",
    "slideshow": {
     "slide_type": "-"
    }
   },
   "source": [
    "## Inspecting p(X) of the BOW vectorizers\n",
    "\n",
    "Assuming that our data consists of discrete features, as in the Bag of Words models we have seen so far, visualizing $p(X)$ consists of visualizing the PMF of a multionomial distribution that consists of all the features in our data. \n",
    "\n",
    "Of course, this is a very wide distribution, even if we just include unigrams. \n",
    "\n",
    "Thus, we will visualize just the most popular features. \n",
    "\n",
    "We will see how, given the most popular features of one dataset, the other dataset compares. "
   ]
  },
  {
   "cell_type": "code",
   "execution_count": 6,
   "metadata": {
    "autoscroll": false,
    "ein.hycell": false,
    "ein.tags": "worksheet-0",
    "slideshow": {
     "slide_type": "-"
    }
   },
   "outputs": [],
   "source": [
    "from copy import deepcopy\n",
    "\n",
    "def _train_and_transform(vectorizer, X):\n",
    "    vectorizer.fit(X)\n",
    "    return vectorizer, vectorizer.transform(X)\n",
    "\n",
    "def compare(vectorizer, A, B):\n",
    "    vec_A, VA = _train_and_transform(deepcopy(vectorizer), A) \n",
    "    vec_B, VB = _train_and_transform(deepcopy(vectorizer), B) \n",
    "\n",
    "    # Get the most popular words for A\n",
    "    # ignoring the top 25 super common\n",
    "    # words\n",
    "    sums = np.array(VA.sum(0)).reshape(-1)\n",
    "    tops = np.argsort(sums)[-325:-25]\n",
    "    freqs_A = sums[tops]\n",
    "\n",
    "    features = np.array(vec_A.get_feature_names())[tops]\n",
    "\n",
    "    idxs = np.array([vec_B.vocabulary_.get(s) for s in features])\n",
    "    sums = np.array(VB.sum(0)).reshape(-1)\n",
    "    freqs_B = [sums[i] if i else 0. for i in idxs]\n",
    "\n",
    "    return pd.concat([pd.DataFrame({ 'word': features, 'dataset': d, 'freq': f }) \n",
    "                      for d,f in [('A',freqs_A), ('B',freqs_B)]])"
   ]
  },
  {
   "cell_type": "code",
   "execution_count": 7,
   "metadata": {
    "autoscroll": false,
    "ein.hycell": false,
    "ein.tags": "worksheet-0",
    "slideshow": {
     "slide_type": "-"
    }
   },
   "outputs": [],
   "source": [
    "vectorizer = TfidfVectorizer(preprocessor = preprocess, min_df = 1, use_idf=False)\n",
    "df = compare(vectorizer, yelps.sample(500).text, movies.sample(500).text)"
   ]
  },
  {
   "cell_type": "code",
   "execution_count": 8,
   "metadata": {
    "autoscroll": false,
    "ein.hycell": false,
    "ein.tags": "worksheet-0",
    "slideshow": {
     "slide_type": "-"
    }
   },
   "outputs": [
    {
     "data": {
      "text/plain": [
       "<matplotlib.axes._subplots.AxesSubplot at 0x1a2364a0b8>"
      ]
     },
     "execution_count": 8,
     "metadata": {},
     "output_type": "execute_result"
    },
    {
     "data": {
      "image/png": "[encoded data removed]",
      "text/plain": [
       "<Figure size 432x288 with 1 Axes>"
      ]
     },
     "metadata": {
      "needs_background": "light"
     },
     "output_type": "display_data"
    }
   ],
   "source": [
    "sns.barplot(x = 'word', \n",
    "            y = 'freq', \n",
    "            data = df[df.dataset == 'A'])"
   ]
  },
  {
   "cell_type": "code",
   "execution_count": 9,
   "metadata": {
    "autoscroll": false,
    "ein.hycell": false,
    "ein.tags": "worksheet-0",
    "slideshow": {
     "slide_type": "-"
    }
   },
   "outputs": [
    {
     "data": {
      "text/plain": [
       "<matplotlib.axes._subplots.AxesSubplot at 0x1a23ab6080>"
      ]
     },
     "execution_count": 9,
     "metadata": {},
     "output_type": "execute_result"
    },
    {
     "data": {
      "image/png": "[encoded data removed]",
      "text/plain": [
       "<Figure size 432x288 with 1 Axes>"
      ]
     },
     "metadata": {
      "needs_background": "light"
     },
     "output_type": "display_data"
    }
   ],
   "source": [
    "sns.barplot(x = 'word', \n",
    "            y = 'freq', \n",
    "            data = df[df.dataset == 'B'])"
   ]
  },
  {
   "cell_type": "markdown",
   "metadata": {
    "ein.tags": "worksheet-0",
    "slideshow": {
     "slide_type": "-"
    }
   },
   "source": [
    "## Generative vs. Discriminative\n",
    "\n",
    "Play around with the following plotting function. Is this consisten with the theoretical results of Ng and Jordan? Can you get the opposite results? Why? "
   ]
  },
  {
   "cell_type": "code",
   "execution_count": 10,
   "metadata": {},
   "outputs": [
    {
     "name": "stderr",
     "output_type": "stream",
     "text": [
      "/Users/sammacintyre/anaconda3/lib/python3.6/site-packages/bs4/__init__.py:273: UserWarning: \"b'..'\" looks like a filename, not markup. You should probably open this file and pass the filehandle into Beautiful Soup.\n",
      "  ' Beautiful Soup.' % markup)\n",
      "/Users/sammacintyre/anaconda3/lib/python3.6/site-packages/bs4/__init__.py:273: UserWarning: \"b'..'\" looks like a filename, not markup. You should probably open this file and pass the filehandle into Beautiful Soup.\n",
      "  ' Beautiful Soup.' % markup)\n",
      "/Users/sammacintyre/anaconda3/lib/python3.6/site-packages/bs4/__init__.py:336: UserWarning: \"https://www.consumeraffairs.com/news/mypillow-gets-a-rude-awakening-as-the-better-business-bureau-gives-it-an-f-010517.html\" looks like a URL. Beautiful Soup is not an HTTP client. You should probably use an HTTP client like requests to get the document behind the URL, and feed that document to Beautiful Soup.\n",
      "  ' that document to Beautiful Soup.' % decoded_markup\n",
      "/Users/sammacintyre/anaconda3/lib/python3.6/site-packages/bs4/__init__.py:273: UserWarning: \"b'..'\" looks like a filename, not markup. You should probably open this file and pass the filehandle into Beautiful Soup.\n",
      "  ' Beautiful Soup.' % markup)\n",
      "/Users/sammacintyre/anaconda3/lib/python3.6/site-packages/bs4/__init__.py:273: UserWarning: \"b'..'\" looks like a filename, not markup. You should probably open this file and pass the filehandle into Beautiful Soup.\n",
      "  ' Beautiful Soup.' % markup)\n",
      "/Users/sammacintyre/anaconda3/lib/python3.6/site-packages/bs4/__init__.py:336: UserWarning: \"https://www.consumeraffairs.com/news/mypillow-gets-a-rude-awakening-as-the-better-business-bureau-gives-it-an-f-010517.html\" looks like a URL. Beautiful Soup is not an HTTP client. You should probably use an HTTP client like requests to get the document behind the URL, and feed that document to Beautiful Soup.\n",
      "  ' that document to Beautiful Soup.' % decoded_markup\n"
     ]
    }
   ],
   "source": [
    "V = _train_and_transform(deepcopy(vectorizer),yelps.text)[1]"
   ]
  },
  {
   "cell_type": "code",
   "execution_count": 11,
   "metadata": {
    "autoscroll": false,
    "ein.hycell": false,
    "ein.tags": "worksheet-0",
    "slideshow": {
     "slide_type": "slide"
    }
   },
   "outputs": [
    {
     "name": "stderr",
     "output_type": "stream",
     "text": [
      "/Users/sammacintyre/anaconda3/lib/python3.6/site-packages/sklearn/linear_model/logistic.py:433: FutureWarning: Default solver will be changed to 'lbfgs' in 0.22. Specify a solver to silence this warning.\n",
      "  FutureWarning)\n",
      "/Users/sammacintyre/anaconda3/lib/python3.6/site-packages/sklearn/linear_model/logistic.py:433: FutureWarning: Default solver will be changed to 'lbfgs' in 0.22. Specify a solver to silence this warning.\n",
      "  FutureWarning)\n",
      "/Users/sammacintyre/anaconda3/lib/python3.6/site-packages/sklearn/linear_model/logistic.py:433: FutureWarning: Default solver will be changed to 'lbfgs' in 0.22. Specify a solver to silence this warning.\n",
      "  FutureWarning)\n",
      "/Users/sammacintyre/anaconda3/lib/python3.6/site-packages/sklearn/linear_model/logistic.py:433: FutureWarning: Default solver will be changed to 'lbfgs' in 0.22. Specify a solver to silence this warning.\n",
      "  FutureWarning)\n",
      "/Users/sammacintyre/anaconda3/lib/python3.6/site-packages/sklearn/linear_model/logistic.py:433: FutureWarning: Default solver will be changed to 'lbfgs' in 0.22. Specify a solver to silence this warning.\n",
      "  FutureWarning)\n",
      "/Users/sammacintyre/anaconda3/lib/python3.6/site-packages/sklearn/linear_model/logistic.py:433: FutureWarning: Default solver will be changed to 'lbfgs' in 0.22. Specify a solver to silence this warning.\n",
      "  FutureWarning)\n",
      "/Users/sammacintyre/anaconda3/lib/python3.6/site-packages/sklearn/linear_model/logistic.py:433: FutureWarning: Default solver will be changed to 'lbfgs' in 0.22. Specify a solver to silence this warning.\n",
      "  FutureWarning)\n"
     ]
    },
    {
     "data": {
      "text/plain": [
       "<matplotlib.axes._subplots.AxesSubplot at 0x1a26f32b38>"
      ]
     },
     "execution_count": 11,
     "metadata": {},
     "output_type": "execute_result"
    },
    {
     "data": {
      "image/png": "[encoded data removed]",
      "text/plain": [
       "<Figure size 432x288 with 1 Axes>"
      ]
     },
     "metadata": {
      "needs_background": "light"
     },
     "output_type": "display_data"
    }
   ],
   "source": [
    "# add vectors here\n",
    "#V = _train_and_transform(deepcopy(vectorizer),yelps.text)\n",
    "y = yelps.positive\n",
    "\n",
    "\n",
    "def _cv_score(V, y, models):\n",
    "    return [{ 'name': name, 'value': np.mean(cross_val_score(model, V, y, cv=3)) }\n",
    "            for name, model in models]\n",
    "\n",
    "def plot_cv_scores(V, y, models, ticks):\n",
    "    scores = [_cv_score(V[:t], y[:t], models) for t in ticks]        \n",
    "    scores = [({'N': np.log(t) , **i}) for t,s \n",
    "              in zip(ticks, scores) for i in s]\n",
    "    df = pd.DataFrame(scores)\n",
    "    return sns.lineplot(y='value', x='N', hue='name', data=df)\n",
    "\n",
    "models = [('NB', MultinomialNB(fit_prior=False)), \n",
    "          ('LR', LogisticRegression())]\n",
    "\n",
    "plot_cv_scores(V, y, models, [300, 600, 1200, 2400, 4800, 9600, 19200])"
   ]
  },
  {
   "cell_type": "markdown",
   "metadata": {
    "ein.tags": "worksheet-0",
    "slideshow": {
     "slide_type": "-"
    }
   },
   "source": [
    "## Searching the Grid\n",
    "\n",
    "Hyperparameter tuning, in its simplest form, can be done via a grid search. \n",
    "\n",
    "We can use cross validation to estimate the out-of-sample expected risk. \n",
    "\n",
    "SKlearn gives us a very nice package for this: GridSearchCV\n",
    "\n",
    "The API can be a bit complicated at first glance, but it's simple once you get used to it and comfortable with the idea of a \"pipeline\". "
   ]
  },
  {
   "cell_type": "code",
   "execution_count": 24,
   "metadata": {
    "autoscroll": false,
    "ein.hycell": false,
    "ein.tags": "worksheet-0",
    "slideshow": {
     "slide_type": "-"
    }
   },
   "outputs": [],
   "source": [
    "from sklearn.pipeline import Pipeline\n",
    "from sklearn.model_selection import GridSearchCV\n",
    "\n",
    "\n",
    "# subset sample\n",
    "yelps = yelps.sample(10000)\n",
    "movies = movies.sample(10000)\n",
    "\n",
    "# Define the pipeline\n",
    "pipeline = Pipeline([\n",
    "    ('vect', TfidfVectorizer()),\n",
    "    ('LR', LogisticRegression())\n",
    "])\n",
    "\n",
    "\n",
    "# Define parameters for CV gridsearch\n",
    "params = {\n",
    "    'vect__max_df': (0.5,0.7,1.0), \n",
    "    'vect__use_idf': (False, True),\n",
    "    'vect__stop_words': ('english', None),\n",
    "    'LR__C': (1,4,8),\n",
    "    'LR__max_iter': (8, 16),\n",
    "    'vect__ngram_range':((1,1),(1,2),(1,3))  \n",
    "}\n",
    "\n"
   ]
  },
  {
   "cell_type": "markdown",
   "metadata": {
    "ein.tags": "worksheet-0",
    "slideshow": {
     "slide_type": "-"
    }
   },
   "source": [
    "## Crosstraining\n",
    "\n",
    "Test how well your model, when trained on one dataset, performs on the other. \n",
    "\n",
    "To do this, make sure that you: \n",
    "\n",
    "1. You perform the \"fitting\" of both the vectorizer and the model on one of the sets\n",
    "2. Use the \"transform\" of the vectorizer to transform the second dataset into the same feature space (X) that your model was trained on. \n",
    "3. Use the \"predict\" of your model to see how well it did on the second dataset. \n",
    "\n",
    "How well does your model generalize from one to the other? What does this say about \"sentiment\"? "
   ]
  },
  {
   "cell_type": "code",
   "execution_count": 25,
   "metadata": {
    "autoscroll": false,
    "ein.hycell": false,
    "ein.tags": "worksheet-0",
    "slideshow": {
     "slide_type": "-"
    }
   },
   "outputs": [
    {
     "name": "stdout",
     "output_type": "stream",
     "text": [
      "Fitting 2 folds for each of 216 candidates, totalling 432 fits\n"
     ]
    },
    {
     "name": "stderr",
     "output_type": "stream",
     "text": [
      "[Parallel(n_jobs=7)]: Using backend LokyBackend with 7 concurrent workers.\n",
      "[Parallel(n_jobs=7)]: Done  36 tasks      | elapsed:   30.4s\n",
      "[Parallel(n_jobs=7)]: Done 186 tasks      | elapsed:  2.8min\n",
      "[Parallel(n_jobs=7)]: Done 432 out of 432 | elapsed:  6.6min finished\n",
      "/Users/sammacintyre/anaconda3/lib/python3.6/site-packages/sklearn/linear_model/logistic.py:433: FutureWarning: Default solver will be changed to 'lbfgs' in 0.22. Specify a solver to silence this warning.\n",
      "  FutureWarning)\n"
     ]
    },
    {
     "data": {
      "text/plain": [
       "GridSearchCV(cv=2, error_score='raise-deprecating',\n",
       "       estimator=Pipeline(memory=None,\n",
       "     steps=[('vect', TfidfVectorizer(analyzer='word', binary=False, decode_error='strict',\n",
       "        dtype=<class 'numpy.float64'>, encoding='utf-8', input='content',\n",
       "        lowercase=True, max_df=1.0, max_features=None, min_df=1,\n",
       "        ngram_range=(1, 1), norm='l2', preprocessor=None, smooth_idf=True,\n",
       "...penalty='l2', random_state=None, solver='warn',\n",
       "          tol=0.0001, verbose=0, warm_start=False))]),\n",
       "       fit_params=None, iid='warn', n_jobs=7,\n",
       "       param_grid={'vect__max_df': (0.5, 0.7, 1.0), 'vect__use_idf': (False, True), 'vect__stop_words': ('english', None), 'LR__C': (1, 4, 8), 'LR__max_iter': (8, 16), 'vect__ngram_range': ((1, 1), (1, 2), (1, 3))},\n",
       "       pre_dispatch='2*n_jobs', refit=True, return_train_score='warn',\n",
       "       scoring=None, verbose=1)"
      ]
     },
     "execution_count": 25,
     "metadata": {},
     "output_type": "execute_result"
    }
   ],
   "source": [
    "# Perform this on a smaller sample of the data to not break your machine\n",
    "\n",
    "grid = GridSearchCV(pipeline, params, cv=2, n_jobs=7,verbose=1)\n",
    "\n",
    "# Fit the model\n",
    "grid.fit(yelps.text, yelps.positive)\n",
    "\n",
    "# Note takes 6 mins\n"
   ]
  },
  {
   "cell_type": "code",
   "execution_count": 26,
   "metadata": {},
   "outputs": [
    {
     "data": {
      "text/plain": [
       "0.9443"
      ]
     },
     "execution_count": 26,
     "metadata": {},
     "output_type": "execute_result"
    }
   ],
   "source": [
    "# Take a look at the best parameter set and its error rate\n",
    "optParams = grid.best_estimator_.get_params()\n",
    "optParams\n",
    "grid.best_score_"
   ]
  },
  {
   "cell_type": "code",
   "execution_count": 32,
   "metadata": {},
   "outputs": [
    {
     "data": {
      "text/plain": [
       "0.7772"
      ]
     },
     "execution_count": 32,
     "metadata": {},
     "output_type": "execute_result"
    }
   ],
   "source": [
    "# Transform the feature space of the second dataset\n",
    "optVect = optParams[\"vect\"]\n",
    "\n",
    "# Perform the transform\n",
    "mov_T = optVect.transform(movies['text'])\n",
    "\n",
    "\n",
    "# Take optimal classifier based on our CV score\n",
    "optClass = optParams[\"LR\"]\n",
    "\n",
    "\n",
    "# Predictions\n",
    "predictions = optClass.predict(mov_T)\n",
    "\n",
    "\n",
    "# What's the cross training score on the movies set?\n",
    "metrics.accuracy_score(movies.positive, predictions)\n",
    "\n",
    "\n"
   ]
  },
  {
   "cell_type": "markdown",
   "metadata": {},
   "source": [
    "We see that the model trained on the Yelp data doesn't perform nearly as well on the unseen movies data. Which shows the limits of generalising text models to other types of documents. "
   ]
  },
  {
   "cell_type": "code",
   "execution_count": null,
   "metadata": {},
   "outputs": [],
   "source": []
  }
 ],
 "metadata": {
  "kernelspec": {
   "display_name": "Python 3",
   "language": "python",
   "name": "python3"
  },
  "language_info": {
   "codemirror_mode": {
    "name": "ipython",
    "version": 3
   },
   "file_extension": ".py",
   "mimetype": "text/x-python",
   "name": "python",
   "nbconvert_exporter": "python",
   "pygments_lexer": "ipython3",
   "version": "3.6.6"
  },
  "name": "exercise-2.ipynb"
 },
 "nbformat": 4,
 "nbformat_minor": 2
}
