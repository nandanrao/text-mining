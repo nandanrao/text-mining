{
 "cells": [
  {
   "cell_type": "code",
   "execution_count": 1,
   "metadata": {
    "autoscroll": false,
    "ein.hycell": false,
    "ein.tags": "worksheet-0",
    "slideshow": {
     "slide_type": "-"
    }
   },
   "outputs": [
    {
     "name": "stdout",
     "output_type": "stream",
     "text": [
      "\u001b[33mYou are using pip version 18.1, however version 19.0.3 is available.\r\n",
      "You should consider upgrading via the 'pip install --upgrade pip' command.\u001b[0m\r\n"
     ]
    }
   ],
   "source": [
    "! pip install --quiet gensim"
   ]
  },
  {
   "cell_type": "code",
   "execution_count": 14,
   "metadata": {
    "autoscroll": false,
    "ein.hycell": false,
    "ein.tags": "worksheet-0",
    "slideshow": {
     "slide_type": "-"
    }
   },
   "outputs": [],
   "source": [
    "import pandas as pd\n",
    "\n",
    "yelps = pd.read_csv('sentiment/yelps.csv').sample(frac=0.1)"
   ]
  },
  {
   "cell_type": "code",
   "execution_count": 15,
   "metadata": {
    "autoscroll": false,
    "ein.hycell": false,
    "ein.tags": "worksheet-0",
    "slideshow": {
     "slide_type": "-"
    }
   },
   "outputs": [],
   "source": [
    "from bs4 import BeautifulSoup\n",
    "import re\n",
    "\n",
    "def clean_yelp(s):\n",
    "    s = BeautifulSoup(s, 'html5lib').get_text()\n",
    "    s = ' '.join(s.split())\n",
    "    s = s.strip().lower()\n",
    "    return s\n",
    "\n",
    "def tokenize(s):\n",
    "    \"\"\" Returns a list of strings (tokens) from the document \"\"\"\n",
    "\n",
    "    token_pattern=r\"(?u)\\b\\w\\w+\\b\" #reexp obtained from sklearn countvectorizer documentation\n",
    "    token_pattern = re.compile(token_pattern)\n",
    "    tokens= token_pattern.findall(s)\n",
    "    return tokens\n"
   ]
  },
  {
   "cell_type": "markdown",
   "metadata": {},
   "source": [
    "To create the Count Vectorizer we will go through each documentin our corpus, clean it, tokenize it and then count how many times each word appears. This will be saved in a dictionary. We have a list of all the dictionaries and a list for all the words. "
   ]
  },
  {
   "cell_type": "code",
   "execution_count": 16,
   "metadata": {},
   "outputs": [
    {
     "name": "stderr",
     "output_type": "stream",
     "text": [
      "/home/oscarmartinez/anaconda3/lib/python3.6/site-packages/bs4/__init__.py:219: UserWarning: \"b'..'\" looks like a filename, not markup. You should probably open this file and pass the filehandle into Beautiful Soup.\n",
      "  ' Beautiful Soup.' % markup)\n"
     ]
    }
   ],
   "source": [
    "from sklearn.feature_extraction.text import CountVectorizer\n",
    "from sklearn.decomposition import TruncatedSVD\n",
    "from scipy.sparse import csr_matrix\n",
    "\n",
    "indices=[] #features\n",
    "values=[] #term frequency\n",
    "matrix_seed=[] #vectorized matrix\n",
    "\n",
    "for doc in yelps.text: #we go through each yelp\n",
    "    tokens=tokenize(clean_yelp(doc)) #preprocess and tokenize each yelp\n",
    "    features={}\n",
    "    for token in tokens: #create a dictioanry with the frequency of each token\n",
    "        if token not in features:\n",
    "            features[token]=1\n",
    "        else:\n",
    "            features[token]+=1\n",
    "    indices.extend(features.keys()) #add the tokens of each document to the features list\n",
    "    values.append(features) #append the frequency dictionary to the value list"
   ]
  },
  {
   "cell_type": "markdown",
   "metadata": {},
   "source": [
    "From the list of all words we eliminate duplicates and we have a list of our vocabulary."
   ]
  },
  {
   "cell_type": "code",
   "execution_count": 17,
   "metadata": {},
   "outputs": [],
   "source": [
    "unique_indices=list(set(indices)) #obtain a list of unique words (all the vovabulary)"
   ]
  },
  {
   "cell_type": "markdown",
   "metadata": {},
   "source": [
    "Last we build a list of lists which will contain the rows of our future matrix. Here we will fill with zeros the words that do not appear in our vocabulary."
   ]
  },
  {
   "cell_type": "code",
   "execution_count": 5,
   "metadata": {},
   "outputs": [],
   "source": [
    "for value in values: #fill the words of the vocabulary that don't appear in a document with 0\n",
    "    row=[value.get(index,0) for index in unique_indices]\n",
    "    matrix_seed.append(row) #append each row to our matrix"
   ]
  },
  {
   "cell_type": "markdown",
   "metadata": {},
   "source": [
    "Now we use a sparce matrix structure to compress our matrix."
   ]
  },
  {
   "cell_type": "code",
   "execution_count": 6,
   "metadata": {
    "autoscroll": false,
    "ein.hycell": false,
    "ein.tags": "worksheet-0",
    "slideshow": {
     "slide_type": "-"
    }
   },
   "outputs": [],
   "source": [
    "final_matrix= csr_matrix(matrix_seed) #compress our matrix into a sparce matrix format\n",
    "\n",
    "# Create a count vectorizer, using the preprocessor and tokenizer from above\n",
    "# use TruncatedSVD from Sklearn to generate a term embedding matrix for your data\n",
    "# that is 100 dimensional in size.\n",
    "# Embed your documents via that term embedding matrix (this is just the PCA of the \n",
    "# TF matrix, as returned by \"transform\" on TruncatedSVD\n",
    "\n",
    "# Here you should have TWO vector representations of your Yelp data: \n",
    "# 1. The original TF matrix\n",
    "# 2. The first 100 components of the PCA of that matrix, as performed by TruncatedSVD"
   ]
  },
  {
   "cell_type": "markdown",
   "metadata": {},
   "source": [
    "To perform the dimension reduction we do a PCA of our matrix and take the first 100 dimensions."
   ]
  },
  {
   "cell_type": "code",
   "execution_count": 7,
   "metadata": {},
   "outputs": [],
   "source": [
    "svd=TruncatedSVD(n_components=100)\n",
    "term_embedding=svd.fit(final_matrix)\n",
    "truncated_matrix=svd.transform(final_matrix)"
   ]
  },
  {
   "cell_type": "code",
   "execution_count": 4,
   "metadata": {
    "autoscroll": false,
    "ein.hycell": false,
    "ein.tags": "worksheet-0",
    "slideshow": {
     "slide_type": "-"
    }
   },
   "outputs": [],
   "source": [
    "from sklearn.metrics import accuracy_score\n",
    "from sklearn.linear_model import LogisticRegression\n",
    "\n",
    "def test_holdout_vectors(V, y, cutoff):\n",
    "    model = LogisticRegression()\n",
    "    model.fit(V[:cutoff], y[:cutoff])\n",
    "    preds = model.predict(V[cutoff:])\n",
    "    return accuracy_score(preds, y[cutoff:])"
   ]
  },
  {
   "cell_type": "code",
   "execution_count": 12,
   "metadata": {
    "autoscroll": false,
    "ein.hycell": false,
    "ein.tags": "worksheet-0",
    "slideshow": {
     "slide_type": "-"
    }
   },
   "outputs": [
    {
     "name": "stderr",
     "output_type": "stream",
     "text": [
      "/home/oscarmartinez/anaconda3/lib/python3.6/site-packages/sklearn/linear_model/logistic.py:433: FutureWarning: Default solver will be changed to 'lbfgs' in 0.22. Specify a solver to silence this warning.\n",
      "  FutureWarning)\n",
      "/home/oscarmartinez/anaconda3/lib/python3.6/site-packages/sklearn/linear_model/logistic.py:433: FutureWarning: Default solver will be changed to 'lbfgs' in 0.22. Specify a solver to silence this warning.\n",
      "  FutureWarning)\n",
      "/home/oscarmartinez/anaconda3/lib/python3.6/site-packages/sklearn/linear_model/logistic.py:433: FutureWarning: Default solver will be changed to 'lbfgs' in 0.22. Specify a solver to silence this warning.\n",
      "  FutureWarning)\n",
      "/home/oscarmartinez/anaconda3/lib/python3.6/site-packages/sklearn/linear_model/logistic.py:433: FutureWarning: Default solver will be changed to 'lbfgs' in 0.22. Specify a solver to silence this warning.\n",
      "  FutureWarning)\n",
      "/home/oscarmartinez/anaconda3/lib/python3.6/site-packages/sklearn/linear_model/logistic.py:433: FutureWarning: Default solver will be changed to 'lbfgs' in 0.22. Specify a solver to silence this warning.\n",
      "  FutureWarning)\n",
      "/home/oscarmartinez/anaconda3/lib/python3.6/site-packages/sklearn/linear_model/logistic.py:433: FutureWarning: Default solver will be changed to 'lbfgs' in 0.22. Specify a solver to silence this warning.\n",
      "  FutureWarning)\n",
      "/home/oscarmartinez/anaconda3/lib/python3.6/site-packages/sklearn/linear_model/logistic.py:433: FutureWarning: Default solver will be changed to 'lbfgs' in 0.22. Specify a solver to silence this warning.\n",
      "  FutureWarning)\n"
     ]
    }
   ],
   "source": [
    "# Test your vector representations using the above function, test_holdout_vectors. \n",
    "# for several levels of \"cutoff\". \n",
    "\n",
    "# This function simulates training on a small part of your data and testing on the rest.\n",
    "# Thus, it's as though you have some labelled data but a bunch of unlabelled data. \n",
    "# This is essentially a semi-supervised situation. \n",
    "\n",
    "# Do the word embeddings generated via SVD allow you to pull information from the \n",
    "# unlabeled data and improve your score given a small training set? \n",
    "cutoff=[0.1,0.15,0.20,0.30,0.5,0.75,0.90]\n",
    "pred=[]\n",
    "for cut in cutoff:\n",
    "    pred.append(test_holdout_vectors(truncated_matrix,yelps.positive,int(cut*yelps.shape[0])))\n"
   ]
  },
  {
   "cell_type": "markdown",
   "metadata": {},
   "source": [
    "We test our Count Vectorizer to classify yelps reviews using a logistic regression. We use the provided function to see how the training size affects the accuracy of the results. We can see that it goes up but from 75% to 90% falls unexpectedly."
   ]
  },
  {
   "cell_type": "code",
   "execution_count": 13,
   "metadata": {},
   "outputs": [
    {
     "data": {
      "image/png": "[encoded data removed]",
      "text/plain": [
       "<Figure size 432x288 with 1 Axes>"
      ]
     },
     "metadata": {},
     "output_type": "display_data"
    }
   ],
   "source": [
    "import matplotlib.pyplot as plt\n",
    "cuts_number_samples=[int(cut*yelps.shape[0]) for cut in cutoff]\n",
    "plt.plot(cuts_number_samples,pred)\n",
    "plt.xlabel('Cutoff')\n",
    "plt.ylabel('Accuracy')\n",
    "plt.show() #I do not understand why from 8000 to 9000 accuracy decreases... "
   ]
  },
  {
   "cell_type": "markdown",
   "metadata": {},
   "source": [
    "Now we will do the same as in the previous part but with the Word2Vec model from gensim library. In the first part we have not provided the sentences but we have just specified the parameters. Then we create the sentences by appending the tokenized documents to a list. Then we build the vocabular of our model and we train it."
   ]
  },
  {
   "cell_type": "code",
   "execution_count": 5,
   "metadata": {
    "autoscroll": false,
    "ein.hycell": false,
    "ein.tags": "worksheet-0",
    "slideshow": {
     "slide_type": "-"
    }
   },
   "outputs": [
    {
     "name": "stderr",
     "output_type": "stream",
     "text": [
      "/home/oscarmartinez/anaconda3/lib/python3.6/site-packages/smart_open/ssh.py:34: UserWarning: paramiko missing, opening SSH/SCP/SFTP paths will be disabled.  `pip install paramiko` to suppress\n",
      "  warnings.warn('paramiko missing, opening SSH/SCP/SFTP paths will be disabled.  `pip install paramiko` to suppress')\n"
     ]
    }
   ],
   "source": [
    "from gensim.models import Word2Vec\n",
    "\n",
    "model = Word2Vec(min_count=20,\n",
    "                     window=2,\n",
    "                     size=100,\n",
    "                     sample=6e-5, \n",
    "                     alpha=0.03, \n",
    "                     min_alpha=0.0007, \n",
    "                     negative=20,\n",
    "                     workers=4)\n",
    "\n",
    "# Next, create another term embedding via Word2Vec, also 100 dimensional\n",
    "# Look at the documentation from the library gensim and see what hyperparameters\n",
    "# you can choose to tune. \n",
    "# Note: training takes time, so you probably won't want to try too many!\n",
    "\n",
    "# pass the cleaned and tokenized yelp reviews as \"sentences\" to your model\n",
    "# to build the vocabulary and train the word vectors. "
   ]
  },
  {
   "cell_type": "code",
   "execution_count": 15,
   "metadata": {},
   "outputs": [],
   "source": [
    "sentences=[]\n",
    "for doc in yelps.text: #we go through each yelp\n",
    "    tokens=tokenize(clean_yelp(doc)) #preprocess and tokenize each yelp\n",
    "    sentences.append(tokens)"
   ]
  },
  {
   "cell_type": "code",
   "execution_count": 18,
   "metadata": {},
   "outputs": [],
   "source": [
    "model.build_vocab(sentences,progress_per=1000)"
   ]
  },
  {
   "cell_type": "code",
   "execution_count": 50,
   "metadata": {},
   "outputs": [
    {
     "data": {
      "text/plain": [
       "(3693654, 11211510)"
      ]
     },
     "execution_count": 50,
     "metadata": {},
     "output_type": "execute_result"
    }
   ],
   "source": [
    "model.train(sentences, total_examples=len(sentences), epochs=10, report_delay=1)"
   ]
  },
  {
   "cell_type": "code",
   "execution_count": null,
   "metadata": {
    "autoscroll": false,
    "ein.hycell": false,
    "ein.tags": "worksheet-0",
    "slideshow": {
     "slide_type": "-"
    }
   },
   "outputs": [],
   "source": [
    "# use the embed_w2v function to embed your Yelp reviews using the new\n",
    "# word2vec word embeddings. Each review will be a normalized sum of the\n",
    "# words that it is made of. \n",
    "# See how this improves the scores in the classification task using\n",
    "# test_holdout_vectors -- is word2vec better? At what training-set sizes does it help\n",
    "# more? "
   ]
  },
  {
   "cell_type": "markdown",
   "metadata": {},
   "source": [
    "Now we can use the function provided to obtain the embeddings of the vectors and use them alongside the logistic regression."
   ]
  },
  {
   "cell_type": "code",
   "execution_count": 61,
   "metadata": {},
   "outputs": [],
   "source": [
    "w2v_emb=np.array([embed_w2v(t, model) for t in sentences])"
   ]
  },
  {
   "cell_type": "code",
   "execution_count": 63,
   "metadata": {},
   "outputs": [
    {
     "name": "stderr",
     "output_type": "stream",
     "text": [
      "/home/oscarmartinez/anaconda3/lib/python3.6/site-packages/sklearn/linear_model/logistic.py:433: FutureWarning: Default solver will be changed to 'lbfgs' in 0.22. Specify a solver to silence this warning.\n",
      "  FutureWarning)\n",
      "/home/oscarmartinez/anaconda3/lib/python3.6/site-packages/sklearn/linear_model/logistic.py:433: FutureWarning: Default solver will be changed to 'lbfgs' in 0.22. Specify a solver to silence this warning.\n",
      "  FutureWarning)\n",
      "/home/oscarmartinez/anaconda3/lib/python3.6/site-packages/sklearn/linear_model/logistic.py:433: FutureWarning: Default solver will be changed to 'lbfgs' in 0.22. Specify a solver to silence this warning.\n",
      "  FutureWarning)\n",
      "/home/oscarmartinez/anaconda3/lib/python3.6/site-packages/sklearn/linear_model/logistic.py:433: FutureWarning: Default solver will be changed to 'lbfgs' in 0.22. Specify a solver to silence this warning.\n",
      "  FutureWarning)\n",
      "/home/oscarmartinez/anaconda3/lib/python3.6/site-packages/sklearn/linear_model/logistic.py:433: FutureWarning: Default solver will be changed to 'lbfgs' in 0.22. Specify a solver to silence this warning.\n",
      "  FutureWarning)\n",
      "/home/oscarmartinez/anaconda3/lib/python3.6/site-packages/sklearn/linear_model/logistic.py:433: FutureWarning: Default solver will be changed to 'lbfgs' in 0.22. Specify a solver to silence this warning.\n",
      "  FutureWarning)\n",
      "/home/oscarmartinez/anaconda3/lib/python3.6/site-packages/sklearn/linear_model/logistic.py:433: FutureWarning: Default solver will be changed to 'lbfgs' in 0.22. Specify a solver to silence this warning.\n",
      "  FutureWarning)\n"
     ]
    }
   ],
   "source": [
    "cutoff=[0.1,0.15,0.20,0.30,0.5,0.75,0.90]\n",
    "pred_w2v=[]\n",
    "for cut in cutoff:\n",
    "    pred_w2v.append(test_holdout_vectors(w2v_emb,yelps.positive,int(cut*yelps.shape[0])))"
   ]
  },
  {
   "cell_type": "code",
   "execution_count": 6,
   "metadata": {
    "autoscroll": false,
    "ein.hycell": false,
    "ein.tags": "worksheet-0",
    "slideshow": {
     "slide_type": "-"
    }
   },
   "outputs": [],
   "source": [
    "import numpy as np\n",
    "\n",
    "def embed_w2v(tokens, w2v):\n",
    "    idxs = [w2v.wv.vocab.get(t) for t in tokens]\n",
    "    idxs = [t.index for t in idxs if t]\n",
    "    N = w2v.wv.vectors.shape[1]\n",
    "    if len(idxs) < 1:\n",
    "        return np.zeros(N)\n",
    "    a = np.sum(w2v.wv.vectors[idxs, :], axis=0)\n",
    "    a /= np.linalg.norm(a)\n",
    "    return a\n",
    "\n",
    "\n",
    "# use as follows: np.array([embed_w2v(t, w2v) for t in X])"
   ]
  },
  {
   "cell_type": "markdown",
   "metadata": {},
   "source": [
    "We see that we obtain much better results than with the rather basic Count vectorizer but we also see that from 75% to 90% the accuracy does not improve."
   ]
  },
  {
   "cell_type": "code",
   "execution_count": 65,
   "metadata": {},
   "outputs": [
    {
     "data": {
      "image/png": "[encoded data removed]",
      "text/plain": [
       "<Figure size 432x288 with 1 Axes>"
      ]
     },
     "metadata": {},
     "output_type": "display_data"
    }
   ],
   "source": [
    "plt.plot(cuts_number_samples,pred_w2v, label='Word2Vec')\n",
    "plt.plot(cuts_number_samples,pred, label='CountVectorizer')\n",
    "plt.xlabel('Cutoff')\n",
    "plt.ylabel('Accuracy')\n",
    "plt.legend()\n",
    "plt.show()"
   ]
  },
  {
   "cell_type": "markdown",
   "metadata": {},
   "source": [
    "Now we will proceed to the the same but with tweeter data. First we use some regular expressions to clean the tweets. This includes removing mentions to other users, removing the hashtag symbol, removing the url's, etc."
   ]
  },
  {
   "cell_type": "code",
   "execution_count": 7,
   "metadata": {
    "autoscroll": false,
    "ein.hycell": false,
    "ein.tags": "worksheet-0",
    "slideshow": {
     "slide_type": "-"
    }
   },
   "outputs": [],
   "source": [
    "import pandas as pd\n",
    "import re\n",
    "from functools import reduce\n",
    "import spacy\n",
    "\n",
    "nlp = spacy.load('en', disable=['parser', 'ner'])\n",
    "\n",
    "pats = [re.compile(r'https?:\\/\\/[^\\s]+'), \n",
    "        re.compile(r'rt\\s*@\\w+\\s?:?'),\n",
    "        re.compile(r'@\\w+')]\n",
    "\n",
    "def clean_twitter(s):\n",
    "    \"\"\" Cleans Twitter specific issues\n",
    "    \n",
    "    Should probably clean out mentions, URLs, and RT's.\n",
    "    \"\"\"\n",
    "    s = s.lower()\n",
    "    _sub = lambda s,pat: re.sub(pat, '', s)\n",
    "    s = reduce(_sub, pats, s)\n",
    "    s = ' '.join(s.split()).strip()\n",
    "    s=re.sub(r'@\\w+','', s) #delete user references\n",
    "    s=re.sub(r'#','', s) #delete hashtag symbol only, not the hashtag itself\n",
    "    s=re.sub(r'https\\S+','',s) #delete the url\n",
    "    s=re.sub(r'RT','',s) #delete the RT\n",
    "    s=re.sub(r'\\n','',s) #delete the end of line indicators\n",
    "    s=re.sub(r'[^\\w\\s]','',s) #delete all punctuation signs, needed??? Maybe we could remove only the : at the beginning of each tweet\n",
    "    s=s.encode('ascii', 'ignore').decode('ascii') #delete all the emojis\n",
    "    doc = nlp(s)\n",
    "    s=\" \".join([token.lemma_ for token in doc]) #lemmatizing using spacy\n",
    "\n",
    "    # TODO: Use regular expressions to remove unwanted\n",
    "    # text and clean up our tweets to be more usable!\n",
    "\n",
    "    # BONUS: Try using the library \"spacy\" to \n",
    "    # do further processing, such as lemmatizing\n",
    "    # or replacing Named Entities with constants (i.e. \"[NAMED]\")\n",
    "    # or adding the part of speech or dependency code to the word \n",
    "\n",
    "    return s"
   ]
  },
  {
   "cell_type": "code",
   "execution_count": 8,
   "metadata": {
    "autoscroll": false,
    "ein.hycell": false,
    "ein.tags": "worksheet-0",
    "slideshow": {
     "slide_type": "-"
    }
   },
   "outputs": [],
   "source": [
    "# Load tweet!\n",
    "# NOTE: this file needs to be downloaded from Box! \n",
    "\n",
    "with open('tweets/tweets.txt') as f:\n",
    "    tweets = pd.Series(f.readlines())"
   ]
  },
  {
   "cell_type": "code",
   "execution_count": 9,
   "metadata": {},
   "outputs": [],
   "source": [
    "tweets=tweets.sample(n=10000)"
   ]
  },
  {
   "cell_type": "markdown",
   "metadata": {},
   "source": [
    "Now we proceed in the exact same way as before with the Count vectorizer and the word2vec. (we should do a couple of functions instead of repeating the same code)"
   ]
  },
  {
   "cell_type": "code",
   "execution_count": 11,
   "metadata": {},
   "outputs": [],
   "source": [
    "# Now embed this twitter data, again using Word2Vec and LSA (SVD)\n",
    "# you don't have any labels, but you might be able to \n",
    "# find some interesting phenomena. \n",
    "\n",
    "#LSA\n",
    "\n",
    "indices_twitter=[] #features\n",
    "values_twitter=[] #term frequency\n",
    "matrix_seed_twitter=[] #vectorized matrix\n",
    "\n",
    "for doc in tweets: #we go through each tweet\n",
    "    tokens=tokenize(clean_twitter(doc)) #preprocess and tokenize each yelp\n",
    "    features={}\n",
    "    for token in tokens: #create a dictioanry with the frequency of each token\n",
    "        if token not in features:\n",
    "            features[token]=1\n",
    "        else:\n",
    "            features[token]+=1\n",
    "    indices_twitter.extend(features.keys()) #add the tokens of each document to the features list\n",
    "    values_twitter.append(features) #append the frequency dictionary to the value list"
   ]
  },
  {
   "cell_type": "code",
   "execution_count": 12,
   "metadata": {},
   "outputs": [],
   "source": [
    "unique_indices_twitter=list(set(indices_twitter)) #obtain a list of unique words (all the vovabulary)    "
   ]
  },
  {
   "cell_type": "code",
   "execution_count": 19,
   "metadata": {},
   "outputs": [],
   "source": [
    "for value in values_twitter: #fill the words of the vocabulary that don't appear in a document with 0\n",
    "    row=[value.get(index,0) for index in unique_indices_twitter]\n",
    "    matrix_seed_twitter.append(row) #append each row to our matrix"
   ]
  },
  {
   "cell_type": "code",
   "execution_count": 20,
   "metadata": {},
   "outputs": [],
   "source": [
    "final_matrix_twitter= csr_matrix(matrix_seed_twitter) #compress our matrix into a sparce matrix format"
   ]
  },
  {
   "cell_type": "code",
   "execution_count": 21,
   "metadata": {
    "autoscroll": false,
    "ein.hycell": false,
    "ein.tags": "worksheet-0",
    "slideshow": {
     "slide_type": "-"
    }
   },
   "outputs": [],
   "source": [
    "svd=TruncatedSVD(n_components=100)\n",
    "term_embedding_twitter=svd.fit(final_matrix_twitter)\n",
    "truncated_matrix_twitter=svd.transform(final_matrix_twitter)"
   ]
  },
  {
   "cell_type": "code",
   "execution_count": 23,
   "metadata": {},
   "outputs": [],
   "source": [
    "#Word2Vec\n",
    "model_tweeter = Word2Vec(min_count=20,\n",
    "                     window=2,\n",
    "                     size=100,\n",
    "                     sample=6e-5, \n",
    "                     alpha=0.03, \n",
    "                     min_alpha=0.0007, \n",
    "                     negative=20,\n",
    "                     workers=4)"
   ]
  },
  {
   "cell_type": "code",
   "execution_count": 22,
   "metadata": {},
   "outputs": [],
   "source": [
    "sentences_tweeter=[]\n",
    "for doc in tweets: #we go through each yelp\n",
    "    tokens=tokenize(clean_twitter(doc)) #preprocess and tokenize each yelp\n",
    "    sentences_tweeter.append(tokens)\n"
   ]
  },
  {
   "cell_type": "code",
   "execution_count": 24,
   "metadata": {},
   "outputs": [],
   "source": [
    "model_tweeter.build_vocab(sentences_tweeter,progress_per=1000)"
   ]
  },
  {
   "cell_type": "code",
   "execution_count": 25,
   "metadata": {},
   "outputs": [
    {
     "data": {
      "text/plain": [
       "(167415, 1118570)"
      ]
     },
     "execution_count": 25,
     "metadata": {},
     "output_type": "execute_result"
    }
   ],
   "source": [
    "model_tweeter.train(sentences_tweeter, total_examples=len(sentences_tweeter), epochs=10, report_delay=1)"
   ]
  },
  {
   "cell_type": "code",
   "execution_count": 26,
   "metadata": {},
   "outputs": [],
   "source": [
    "w2v_emb_tweeter=np.array([embed_w2v(t, model_tweeter) for t in sentences_tweeter])"
   ]
  },
  {
   "cell_type": "markdown",
   "metadata": {},
   "source": [
    "As tweeter data is unlabeled we cannot classify it like the yelps. However we can see how different words are using some functions of gensim package."
   ]
  },
  {
   "cell_type": "code",
   "execution_count": 36,
   "metadata": {},
   "outputs": [
    {
     "data": {
      "text/plain": [
       "[('post', 0.9998263120651245),\n",
       " ('government', 0.9998106360435486),\n",
       " ('president', 0.9998105764389038),\n",
       " ('soon', 0.9998037815093994),\n",
       " ('court', 0.9997957944869995),\n",
       " ('house', 0.9997901320457458),\n",
       " ('nyc', 0.9997888803482056),\n",
       " ('cop', 0.9997873306274414),\n",
       " ('next', 0.9997867941856384),\n",
       " ('order', 0.9997864961624146)]"
      ]
     },
     "execution_count": 36,
     "metadata": {},
     "output_type": "execute_result"
    }
   ],
   "source": [
    "# Explore using either or both of the following tools: \n",
    "# 1. Word2Vec has a built in feature for getting most similar\n",
    "# words, including via positive/negative examples (subtraction)\n",
    "# What happens when you subtract \"hillary\" from \"trump\"? \n",
    "# \n",
    "# Bonus: build a similar feature for your LSA features and\n",
    "# see if you can do similar vector math\n",
    "\n",
    "# 2. Use the visualize_dist function to see how\n",
    "# the tweet-tweet distance looks for a selection\n",
    "# of random tweets. Do you agree with the distance? \n",
    "# Does one embedding seem better than another? \n",
    "\n",
    "model_tweeter.wv.most_similar(positive=[\"hillary\"]) #Hillary is related with more \"serious\" words \n",
    "#such as government, court, order, president"
   ]
  },
  {
   "cell_type": "code",
   "execution_count": 39,
   "metadata": {},
   "outputs": [
    {
     "data": {
      "text/plain": [
       "[('this', 0.9998161792755127),\n",
       " ('http', 0.9997826814651489),\n",
       " ('there', 0.9997813701629639),\n",
       " ('obama', 0.9997813701629639),\n",
       " ('in', 0.9997805953025818),\n",
       " ('with', 0.9997712969779968),\n",
       " ('would', 0.9997676610946655),\n",
       " ('one', 0.9997662901878357),\n",
       " ('attack', 0.999763011932373),\n",
       " ('school', 0.9997629523277283)]"
      ]
     },
     "execution_count": 39,
     "metadata": {},
     "output_type": "execute_result"
    }
   ],
   "source": [
    "model_tweeter.wv.most_similar(positive=[\"trump\"])#Trump is related to more 'polemical' words such as attack, school or obama"
   ]
  },
  {
   "cell_type": "code",
   "execution_count": 38,
   "metadata": {},
   "outputs": [
    {
     "data": {
      "text/plain": [
       "[('to', 0.013594307005405426),\n",
       " ('be', 0.012139536440372467),\n",
       " ('of', 0.0111542958766222),\n",
       " ('PRON', 0.010115716606378555),\n",
       " ('the', 0.006917675957083702)]"
      ]
     },
     "execution_count": 38,
     "metadata": {},
     "output_type": "execute_result"
    }
   ],
   "source": [
    "model_tweeter.wv.most_similar(positive=[\"trump\"], negative=[\"hillary\"], topn=5) #not really interesting results"
   ]
  },
  {
   "cell_type": "code",
   "execution_count": 35,
   "metadata": {},
   "outputs": [
    {
     "data": {
      "text/plain": [
       "[('go', 0.9996809959411621),\n",
       " ('child', 0.9996645450592041),\n",
       " ('government', 0.9996488094329834)]"
      ]
     },
     "execution_count": 35,
     "metadata": {},
     "output_type": "execute_result"
    }
   ],
   "source": [
    "#Which word is to trump as hillary is to president?... Child and government... Oh well, who would have guessed it, right?\n",
    "model_tweeter.wv.most_similar(positive=[\"trump\", \"hillary\"], negative=[\"president\"], topn=3)"
   ]
  },
  {
   "cell_type": "code",
   "execution_count": 41,
   "metadata": {
    "autoscroll": false,
    "ein.hycell": false,
    "ein.tags": "worksheet-0",
    "slideshow": {
     "slide_type": "-"
    }
   },
   "outputs": [],
   "source": [
    "from scipy.spatial.distance import pdist,squareform\n",
    "import seaborn as sns\n",
    "\n",
    "def visualize_dist(V, tweets, idxs):\n",
    "    \"\"\" Visualize distances in heatmap\n",
    "\n",
    "    V is the vector of embeddings \n",
    "    tweets is a list or series that converts from idx to tweet\n",
    "    idxs is a list of integers that you would like to compare (<= 5 probably)\n",
    "    \"\"\"\n",
    "    m = squareform(pdist(V[idxs], 'cosine'))\n",
    "    _ = sns.heatmap(pd.DataFrame(m, columns = tweets[idxs], index= tweets[idxs]))"
   ]
  },
  {
   "cell_type": "code",
   "execution_count": null,
   "metadata": {
    "autoscroll": false,
    "ein.hycell": false,
    "ein.tags": "worksheet-0",
    "slideshow": {
     "slide_type": "-"
    }
   },
   "outputs": [],
   "source": [
    "# More bonus!\n",
    "# Use one of the following pre-embedded models and see if your yelp scores improve? \n",
    "# What about your Twitter explorations?\n",
    "\n",
    "# https://github.com/RaRe-Technologies/gensim-data"
   ]
  }
 ],
 "metadata": {
  "kernelspec": {
   "display_name": "Python 3",
   "language": "python",
   "name": "python3"
  },
  "language_info": {
   "codemirror_mode": {
    "name": "ipython",
    "version": 3
   },
   "file_extension": ".py",
   "mimetype": "text/x-python",
   "name": "python",
   "nbconvert_exporter": "python",
   "pygments_lexer": "ipython3",
   "version": "3.6.5"
  },
  "name": "exercise-3.ipynb",
  "varInspector": {
   "cols": {
    "lenName": 16,
    "lenType": 16,
    "lenVar": 40
   },
   "kernels_config": {
    "python": {
     "delete_cmd_postfix": "",
     "delete_cmd_prefix": "del ",
     "library": "var_list.py",
     "varRefreshCmd": "print(var_dic_list())"
    },
    "r": {
     "delete_cmd_postfix": ") ",
     "delete_cmd_prefix": "rm(",
     "library": "var_list.r",
     "varRefreshCmd": "cat(var_dic_list()) "
    }
   },
   "types_to_exclude": [
    "module",
    "function",
    "builtin_function_or_method",
    "instance",
    "_Feature"
   ],
   "window_display": false
  }
 },
 "nbformat": 4,
 "nbformat_minor": 2
}
