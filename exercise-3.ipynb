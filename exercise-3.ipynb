{
 "cells": [
  {
   "cell_type": "code",
   "execution_count": 1,
   "metadata": {
    "autoscroll": false,
    "ein.hycell": false,
    "ein.tags": "worksheet-0",
    "slideshow": {
     "slide_type": "-"
    }
   },
   "outputs": [],
   "source": [
    "! pip install --quiet gensim"
   ]
  },
  {
   "cell_type": "code",
   "execution_count": 2,
   "metadata": {
    "autoscroll": false,
    "ein.hycell": false,
    "ein.tags": "worksheet-0",
    "slideshow": {
     "slide_type": "-"
    }
   },
   "outputs": [],
   "source": [
    "import pandas as pd\n",
    "\n",
    "yelps = pd.read_csv('sentiment/yelps.csv')"
   ]
  },
  {
   "cell_type": "code",
   "execution_count": 3,
   "metadata": {},
   "outputs": [],
   "source": [
    "# Shuffle the yelps dataset\n",
    "yelps = yelps.sample(frac=1).reset_index(drop=True)"
   ]
  },
  {
   "cell_type": "code",
   "execution_count": 4,
   "metadata": {},
   "outputs": [],
   "source": [
    "from bs4 import BeautifulSoup\n",
    "import spacy\n",
    "\n",
    "# Create a spaCy tokenizer\n",
    "spacy.load('en')\n",
    "lemmatizer = spacy.lang.en.English()\n",
    "\n",
    "# This is our preprocessor function\n",
    "def clean_yelp(s):\n",
    "    s = BeautifulSoup(s, 'html5lib').get_text()\n",
    "    s = ' '.join(s.split())\n",
    "    s = s.strip().lower()\n",
    "    return s\n",
    "\n",
    "# This is our tokenizer function\n",
    "def tokenize(s):\n",
    "    \"\"\" Returns a list of strings (tokens) from the document \"\"\"\n",
    "\n",
    "    # Implement this function!\n",
    "    # Hint: If you look at the sklearn source code on github, \n",
    "    # you will find a good regular expression they use as a default\n",
    "    # tokenizer in CountVectorizer -- this is the tokenizer\n",
    "    # we have been using until now!\n",
    "    # But you need to implement your own now. \n",
    "    \n",
    "    # tokenize the doc and lemmatize its tokens\n",
    "    tokens = lemmatizer(s)\n",
    "    return([token.lemma_ for token in tokens])\n",
    "    \n",
    "    # pass"
   ]
  },
  {
   "cell_type": "code",
   "execution_count": 5,
   "metadata": {
    "autoscroll": false,
    "ein.hycell": false,
    "ein.tags": "worksheet-0",
    "slideshow": {
     "slide_type": "-"
    }
   },
   "outputs": [
    {
     "name": "stderr",
     "output_type": "stream",
     "text": [
      "/home/kaka/anaconda3/lib/python3.7/site-packages/bs4/__init__.py:336: UserWarning: \"https://www.consumeraffairs.com/news/mypillow-gets-a-rude-awakening-as-the-better-business-bureau-gives-it-an-f-010517.html\" looks like a URL. Beautiful Soup is not an HTTP client. You should probably use an HTTP client like requests to get the document behind the URL, and feed that document to Beautiful Soup.\n",
      "  ' that document to Beautiful Soup.' % decoded_markup\n",
      "/home/kaka/anaconda3/lib/python3.7/site-packages/bs4/__init__.py:273: UserWarning: \"b'..'\" looks like a filename, not markup. You should probably open this file and pass the filehandle into Beautiful Soup.\n",
      "  ' Beautiful Soup.' % markup)\n"
     ]
    }
   ],
   "source": [
    "from sklearn.feature_extraction.text import CountVectorizer\n",
    "from sklearn.decomposition import TruncatedSVD\n",
    "\n",
    "# Create a count vectorizer, using the preprocessor and tokenizer from above\n",
    "# use TruncatedSVD from Sklearn to generate a term embedding matrix for your data\n",
    "# that is 100 dimensional in size.\n",
    "# Embed your documents via that term embedding matrix (this is just the PCA of the \n",
    "# TF matrix, as returned by \"transform\" on TruncatedSVD\n",
    "\n",
    "# Here you should have TWO vector representations of your Yelp data: \n",
    "# 1. The original TF matrix\n",
    "# 2. The first 100 components of the PCA of that matrix, as performed by TruncatedSVD\n",
    "\n",
    "count_vectorizer = CountVectorizer(preprocessor=clean_yelp, tokenizer=tokenize)\n",
    "svd = TruncatedSVD(n_components=100)\n",
    "\n",
    "embedding_matrix = count_vectorizer.fit_transform(yelps.text)\n",
    "PCA = svd.fit_transform(embedding_matrix)"
   ]
  },
  {
   "cell_type": "code",
   "execution_count": 6,
   "metadata": {
    "scrolled": true
   },
   "outputs": [
    {
     "name": "stdout",
     "output_type": "stream",
     "text": [
      "  (0, 1)\t3\n",
      "  (0, 198)\t1\n",
      "  (0, 1207)\t1\n",
      "  (0, 9899)\t2\n",
      "  (0, 10097)\t1\n",
      "  (0, 10898)\t1\n",
      "  (0, 12111)\t2\n",
      "  (0, 12463)\t1\n",
      "  (0, 13394)\t1\n",
      "  (0, 14436)\t1\n",
      "  (0, 15311)\t3\n",
      "  (0, 23223)\t2\n",
      "  (0, 24797)\t1\n",
      "  (0, 29642)\t1\n",
      "  (0, 31759)\t1\n",
      "  (0, 33357)\t1\n",
      "  (0, 33938)\t1\n",
      "  (0, 35797)\t1\n",
      "  (0, 37676)\t2\n",
      "  (0, 39191)\t1\n",
      "  (0, 39993)\t3\n",
      "  (0, 43093)\t1\n",
      "  (0, 44105)\t1\n",
      "  (0, 48540)\t1\n",
      "  (0, 51210)\t1\n",
      "  :\t:\n",
      "  (99999, 61907)\t1\n",
      "  (99999, 64969)\t2\n",
      "  (99999, 64992)\t1\n",
      "  (99999, 67367)\t1\n",
      "  (99999, 67606)\t1\n",
      "  (99999, 68060)\t1\n",
      "  (99999, 69193)\t1\n",
      "  (99999, 70061)\t1\n",
      "  (99999, 71812)\t4\n",
      "  (99999, 71867)\t2\n",
      "  (99999, 71911)\t1\n",
      "  (99999, 72013)\t3\n",
      "  (99999, 72104)\t3\n",
      "  (99999, 72697)\t5\n",
      "  (99999, 73871)\t1\n",
      "  (99999, 76137)\t1\n",
      "  (99999, 76503)\t2\n",
      "  (99999, 76815)\t1\n",
      "  (99999, 77385)\t1\n",
      "  (99999, 78068)\t1\n",
      "  (99999, 78166)\t2\n",
      "  (99999, 78318)\t1\n",
      "  (99999, 78418)\t1\n",
      "  (99999, 78924)\t1\n",
      "  (99999, 79714)\t2\n"
     ]
    }
   ],
   "source": [
    "# 1. The original TF matrix\n",
    "print(embedding_matrix)"
   ]
  },
  {
   "cell_type": "code",
   "execution_count": 7,
   "metadata": {
    "scrolled": true
   },
   "outputs": [
    {
     "name": "stdout",
     "output_type": "stream",
     "text": [
      "[[ 6.42402845e+00 -2.91422052e+00  2.79963423e+00 ... -2.07873259e-01\n",
      "  -4.86605309e-02 -3.25617944e-01]\n",
      " [ 1.09636511e+01  5.47291907e+00  1.75094698e+00 ...  1.84116523e-01\n",
      "   2.67528025e-01 -3.11231673e-01]\n",
      " [ 3.33748186e+01  4.99050042e+00  7.20772135e+00 ...  3.16183931e-01\n",
      "   8.94909607e-02  2.62467388e-01]\n",
      " ...\n",
      " [ 2.33199400e+01 -5.11961396e+00  9.49993336e-01 ...  4.40673770e-01\n",
      "  -1.07468895e+00 -1.43598974e-01]\n",
      " [ 1.45808910e+01  2.14016083e+00  2.95028438e+00 ...  6.95899559e-02\n",
      "  -4.45224686e-01 -4.98489492e-02]\n",
      " [ 1.52433934e+01 -7.91017172e-01  4.16876000e+00 ...  3.82818826e-01\n",
      "   1.50640002e-01 -9.39103004e-03]]\n"
     ]
    }
   ],
   "source": [
    "# 2. The first 100 components of the PCA of that matrix, as performed by TruncatedSVD\n",
    "print(PCA)"
   ]
  },
  {
   "cell_type": "code",
   "execution_count": 8,
   "metadata": {
    "autoscroll": false,
    "ein.hycell": false,
    "ein.tags": "worksheet-0",
    "slideshow": {
     "slide_type": "-"
    }
   },
   "outputs": [],
   "source": [
    "from sklearn.metrics import accuracy_score\n",
    "from sklearn.linear_model import LogisticRegression\n",
    "\n",
    "def test_holdout_vectors(V, y, cutoff):\n",
    "    model = LogisticRegression()\n",
    "    model.fit(V[:cutoff], y[:cutoff])\n",
    "    preds = model.predict(V[cutoff:])\n",
    "    return accuracy_score(preds, y[cutoff:])"
   ]
  },
  {
   "cell_type": "code",
   "execution_count": 9,
   "metadata": {
    "autoscroll": false,
    "ein.hycell": false,
    "ein.tags": "worksheet-0",
    "scrolled": false,
    "slideshow": {
     "slide_type": "-"
    }
   },
   "outputs": [
    {
     "name": "stderr",
     "output_type": "stream",
     "text": [
      "/home/kaka/anaconda3/lib/python3.7/site-packages/sklearn/linear_model/logistic.py:433: FutureWarning: Default solver will be changed to 'lbfgs' in 0.22. Specify a solver to silence this warning.\n",
      "  FutureWarning)\n",
      "/home/kaka/anaconda3/lib/python3.7/site-packages/sklearn/linear_model/logistic.py:433: FutureWarning: Default solver will be changed to 'lbfgs' in 0.22. Specify a solver to silence this warning.\n",
      "  FutureWarning)\n",
      "/home/kaka/anaconda3/lib/python3.7/site-packages/sklearn/linear_model/logistic.py:433: FutureWarning: Default solver will be changed to 'lbfgs' in 0.22. Specify a solver to silence this warning.\n",
      "  FutureWarning)\n"
     ]
    },
    {
     "name": "stdout",
     "output_type": "stream",
     "text": [
      "Score for cutoff = 100 is 0.771\n",
      "Score for cutoff = 1000 is 0.868\n",
      "Score for cutoff = 10000 is 0.89\n"
     ]
    },
    {
     "name": "stderr",
     "output_type": "stream",
     "text": [
      "/home/kaka/anaconda3/lib/python3.7/site-packages/sklearn/linear_model/logistic.py:433: FutureWarning: Default solver will be changed to 'lbfgs' in 0.22. Specify a solver to silence this warning.\n",
      "  FutureWarning)\n"
     ]
    },
    {
     "name": "stdout",
     "output_type": "stream",
     "text": [
      "Score for cutoff = 50000 is 0.892\n"
     ]
    }
   ],
   "source": [
    "# Test your vector representations using the above function, test_holdout_vectors. \n",
    "# for several levels of \"cutoff\". \n",
    "\n",
    "# This function simulates training on a small part of your data and testing on the rest.\n",
    "# Thus, it's as though you have some labelled data but a bunch of unlabelled data. \n",
    "# This is essentially a semi-supervised situation. \n",
    "\n",
    "# Do the word embeddings generated via SVD allow you to pull information from the \n",
    "# unlabeled data and improve your score given a small training set? \n",
    "\n",
    "for i in (100,1000,10000,50000):\n",
    "    print(\"Score for cutoff =\",i,\"is\",round(test_holdout_vectors(V=PCA, y=yelps.positive, cutoff=i),3))"
   ]
  },
  {
   "cell_type": "markdown",
   "metadata": {},
   "source": [
    "It does allow us to pull information from unlabeled data, and we observe that with cutoff=100 it gives a score of 77%, which isn't that bad, and by increasing the cutoff=1000 it improves the score considerably to 87%."
   ]
  },
  {
   "cell_type": "code",
   "execution_count": 10,
   "metadata": {
    "autoscroll": false,
    "ein.hycell": false,
    "ein.tags": "worksheet-0",
    "slideshow": {
     "slide_type": "-"
    }
   },
   "outputs": [
    {
     "name": "stderr",
     "output_type": "stream",
     "text": [
      "/home/kaka/anaconda3/lib/python3.7/site-packages/bs4/__init__.py:336: UserWarning: \"https://www.consumeraffairs.com/news/mypillow-gets-a-rude-awakening-as-the-better-business-bureau-gives-it-an-f-010517.html\" looks like a URL. Beautiful Soup is not an HTTP client. You should probably use an HTTP client like requests to get the document behind the URL, and feed that document to Beautiful Soup.\n",
      "  ' that document to Beautiful Soup.' % decoded_markup\n",
      "/home/kaka/anaconda3/lib/python3.7/site-packages/bs4/__init__.py:273: UserWarning: \"b'..'\" looks like a filename, not markup. You should probably open this file and pass the filehandle into Beautiful Soup.\n",
      "  ' Beautiful Soup.' % markup)\n",
      "/home/kaka/anaconda3/lib/python3.7/site-packages/ipykernel_launcher.py:23: DeprecationWarning: Call to deprecated `iter` (Attribute will be removed in 4.0.0, use self.epochs instead).\n"
     ]
    },
    {
     "data": {
      "text/plain": [
       "(45758294, 67936875)"
      ]
     },
     "execution_count": 10,
     "metadata": {},
     "output_type": "execute_result"
    }
   ],
   "source": [
    "from gensim.models import Word2Vec\n",
    "\n",
    "# Next, create another term embedding via Word2Vec, also 100 dimensional\n",
    "# Look at the documentation from the library gensim and see what hyperparameters\n",
    "# you can choose to tune. \n",
    "# Note: training takes time, so you probably won't want to try too many!\n",
    "\n",
    "# pass the cleaned and tokenized yelp reviews as \"sentences\" to your model\n",
    "# to build the vocabulary and train the word vectors. \n",
    "\n",
    "# Parallelize the process\n",
    "import multiprocessing\n",
    "cores = multiprocessing.cpu_count()\n",
    "\n",
    "# Convert pandas series to sentences\n",
    "sentences = pd.Series([])\n",
    "for s in yelps.text:\n",
    "    sentences = sentences.append(pd.Series([tokenize(clean_yelp(s))]))\n",
    "\n",
    "# Build vocabulary and train model\n",
    "w2v = Word2Vec(size=100, window=10, min_count=2, workers=cores-1)\n",
    "w2v.build_vocab(sentences)  # prepare the model vocabulary\n",
    "w2v.train(sentences, total_examples=w2v.corpus_count, epochs=w2v.iter)"
   ]
  },
  {
   "cell_type": "code",
   "execution_count": null,
   "metadata": {
    "autoscroll": false,
    "ein.hycell": false,
    "ein.tags": "worksheet-0",
    "slideshow": {
     "slide_type": "-"
    }
   },
   "outputs": [],
   "source": [
    "# use the embed_w2v function to embed your Yelp reviews using the new\n",
    "# word2vec word embeddings. Each review will be a normalized sum of the\n",
    "# words that it is made of. \n",
    "# See how this improves the scores in the classification task using\n",
    "# test_holdout_vectors -- is word2vec better? At what training-set sizes does it help\n",
    "# more? "
   ]
  },
  {
   "cell_type": "code",
   "execution_count": 11,
   "metadata": {
    "autoscroll": false,
    "ein.hycell": false,
    "ein.tags": "worksheet-0",
    "slideshow": {
     "slide_type": "-"
    }
   },
   "outputs": [],
   "source": [
    "import numpy as np\n",
    "\n",
    "def embed_w2v(tokens, w2v):\n",
    "    idxs = [w2v.wv.vocab.get(t) for t in tokens]\n",
    "    idxs = [t.index for t in idxs if t]\n",
    "    N = w2v.wv.vectors.shape[1]\n",
    "    if len(idxs) < 1:\n",
    "        return np.zeros(N)\n",
    "    a = np.sum(w2v.wv.vectors[idxs, :], axis=0)\n",
    "    a /= np.linalg.norm(a)\n",
    "    return a\n",
    "\n",
    "\n",
    "# use as follows: np.array([embed_w2v(t, w2v) for t in X])"
   ]
  },
  {
   "cell_type": "code",
   "execution_count": 12,
   "metadata": {},
   "outputs": [],
   "source": [
    "w2v_embedding = np.array([embed_w2v(t, w2v) for t in sentences])"
   ]
  },
  {
   "cell_type": "code",
   "execution_count": 13,
   "metadata": {},
   "outputs": [
    {
     "name": "stderr",
     "output_type": "stream",
     "text": [
      "/home/kaka/anaconda3/lib/python3.7/site-packages/sklearn/linear_model/logistic.py:433: FutureWarning: Default solver will be changed to 'lbfgs' in 0.22. Specify a solver to silence this warning.\n",
      "  FutureWarning)\n",
      "/home/kaka/anaconda3/lib/python3.7/site-packages/sklearn/linear_model/logistic.py:433: FutureWarning: Default solver will be changed to 'lbfgs' in 0.22. Specify a solver to silence this warning.\n",
      "  FutureWarning)\n",
      "/home/kaka/anaconda3/lib/python3.7/site-packages/sklearn/linear_model/logistic.py:433: FutureWarning: Default solver will be changed to 'lbfgs' in 0.22. Specify a solver to silence this warning.\n",
      "  FutureWarning)\n"
     ]
    },
    {
     "name": "stdout",
     "output_type": "stream",
     "text": [
      "Score for cutoff = 100 is 0.827\n",
      "Score for cutoff = 1000 is 0.915\n",
      "Score for cutoff = 10000 is 0.938\n"
     ]
    },
    {
     "name": "stderr",
     "output_type": "stream",
     "text": [
      "/home/kaka/anaconda3/lib/python3.7/site-packages/sklearn/linear_model/logistic.py:433: FutureWarning: Default solver will be changed to 'lbfgs' in 0.22. Specify a solver to silence this warning.\n",
      "  FutureWarning)\n"
     ]
    },
    {
     "name": "stdout",
     "output_type": "stream",
     "text": [
      "Score for cutoff = 50000 is 0.944\n"
     ]
    }
   ],
   "source": [
    "for i in (100,1000,10000,50000):\n",
    "    print(\"Score for cutoff =\",i,\"is\",round(test_holdout_vectors(V=w2v_embedding, y=yelps.positive, cutoff=i),3))"
   ]
  },
  {
   "cell_type": "markdown",
   "metadata": {},
   "source": [
    "Word2vec performes significantly better than the word embeddings generated via SVD, and we can see that throughout each different training-set sizes. The most improved score was found in the smallest cutoff."
   ]
  },
  {
   "cell_type": "code",
   "execution_count": 14,
   "metadata": {
    "autoscroll": false,
    "ein.hycell": false,
    "ein.tags": "worksheet-0",
    "slideshow": {
     "slide_type": "-"
    }
   },
   "outputs": [],
   "source": [
    "import pandas as pd\n",
    "import re\n",
    "from functools import reduce\n",
    "\n",
    "pats = [re.compile(r'https?:\\/\\/[^\\s]+'), \n",
    "        re.compile(r'rt\\s*@\\w+\\s?:?'),\n",
    "        re.compile(r'@\\w+')]\n",
    "\n",
    "def clean_twitter(s):\n",
    "    \"\"\" Cleans Twitter specific issues\n",
    "    \n",
    "    Should probably clean out mentions, URLs, and RT's.\n",
    "    \"\"\"\n",
    "    s = s.lower()\n",
    "    _sub = lambda s,pat: re.sub(pat, '', s)\n",
    "    s = reduce(_sub, pats, s)\n",
    "    s = ' '.join(s.split()).strip()\n",
    "    \n",
    "    # TODO: Use regular expressions to remove unwanted\n",
    "    # text and clean up our tweets to be more usable!\n",
    "    \n",
    "    #s = sub('(RT\\s@)', '@', s) # clean out RT's\n",
    "    #s = sub('(@[A-Za-z0-9_]+(:|=:)\\s)|(@[A-Za-z0-9_]+)', '', s) # clean out mentions\n",
    "    #s = sub('https?:/\\S+', '', s) # clean out URLs\n",
    "    \n",
    "    # BONUS: Try using the library \"spacy\" to \n",
    "    #nlp = spacy.load('en')\n",
    "    #doc = nlp(s)\n",
    "    \n",
    "    # do further processing, such as lemmatizing \n",
    "    #s = ' '.join([token.lemma_ for token in doc])\n",
    "    \n",
    "    # or replacing Named Entities with constants (i.e. \"[NAMED]\")\n",
    "    #s = ' '.join([ent.label_ for ent in doc.ents])\n",
    "        \n",
    "    # or adding the part of speech or dependency code to the word \n",
    "    #s = ' '.join([token.tag_ for token in doc])\n",
    "\n",
    "    return s"
   ]
  },
  {
   "cell_type": "code",
   "execution_count": 15,
   "metadata": {
    "autoscroll": false,
    "ein.hycell": false,
    "ein.tags": "worksheet-0",
    "slideshow": {
     "slide_type": "-"
    }
   },
   "outputs": [],
   "source": [
    "# Load tweet!\n",
    "# NOTE: this file needs to be downloaded from Box! \n",
    "\n",
    "with open('tweets/tweets.txt') as f:\n",
    "    tweets = pd.Series(f.readlines())"
   ]
  },
  {
   "cell_type": "code",
   "execution_count": 16,
   "metadata": {},
   "outputs": [],
   "source": [
    "# Shuffle dataframe\n",
    "tweets = tweets.sample(frac=1).reset_index(drop=True)\n",
    "\n",
    "# Filter dataframe\n",
    "tweets = tweets[1:100000]"
   ]
  },
  {
   "cell_type": "code",
   "execution_count": 17,
   "metadata": {
    "scrolled": true
   },
   "outputs": [],
   "source": [
    "# Clean twitter data\n",
    "clean_tweets = tweets.map(clean_twitter)"
   ]
  },
  {
   "cell_type": "code",
   "execution_count": 18,
   "metadata": {},
   "outputs": [],
   "source": [
    "sentences_tweets = pd.Series([])\n",
    "\n",
    "# Convert pandas series to sentences\n",
    "for t in clean_tweets:\n",
    "    sentences_tweets = sentences_tweets.append(pd.Series([tokenize(clean_twitter(t))]))"
   ]
  },
  {
   "cell_type": "code",
   "execution_count": 19,
   "metadata": {
    "autoscroll": false,
    "ein.hycell": false,
    "ein.tags": "worksheet-0",
    "slideshow": {
     "slide_type": "-"
    }
   },
   "outputs": [
    {
     "name": "stderr",
     "output_type": "stream",
     "text": [
      "/home/kaka/anaconda3/lib/python3.7/site-packages/ipykernel_launcher.py:28: DeprecationWarning: Call to deprecated `iter` (Attribute will be removed in 4.0.0, use self.epochs instead).\n"
     ]
    },
    {
     "data": {
      "text/plain": [
       "(6026184, 8300280)"
      ]
     },
     "execution_count": 19,
     "metadata": {},
     "output_type": "execute_result"
    }
   ],
   "source": [
    "# Now embed this twitter data, again using Word2Vec and LSA (SVD)\n",
    "# you don't have any labels, but you might be able to \n",
    "# find some interesting phenomena. \n",
    "\n",
    "# Explore using either or both of the following tools: \n",
    "# 1. Word2Vec has a built in feature for getting most similar\n",
    "# words, including via positive/negative examples (subtraction)\n",
    "# What happens when you subtract \"hillary\" from \"trump\"? \n",
    "# \n",
    "# Bonus: build a similar feature for your LSA features and\n",
    "# see if you can do similar vector math\n",
    "\n",
    "# 2. Use the visualize_dist function to see how\n",
    "# the tweet-tweet distance looks for a selection\n",
    "# of random tweets. Do you agree with the distance? \n",
    "# Does one embedding seem better than another? \n",
    "\n",
    "from gensim.models import Word2Vec\n",
    "\n",
    "# Parallelize the process\n",
    "import multiprocessing\n",
    "cores = multiprocessing.cpu_count()\n",
    "sentences = pd.Series([])\n",
    "\n",
    "# Build vocabulary and train model\n",
    "w2v_t = Word2Vec(size=100, window=10, min_count=2, workers=cores-1)\n",
    "w2v_t.build_vocab(sentences_tweets)  # prepare the model vocabulary\n",
    "w2v_t.train(sentences_tweets, total_examples=w2v_t.corpus_count, epochs=w2v_t.iter)"
   ]
  },
  {
   "cell_type": "code",
   "execution_count": 21,
   "metadata": {},
   "outputs": [
    {
     "name": "stdout",
     "output_type": "stream",
     "text": [
      "Word2Vec: [('j.', 0.5030156373977661), ('north', 0.4879339933395386), ('boris', 0.4801981747150421), ('j.trump', 0.4743747115135193), ('nobel', 0.45672595500946045), ('j', 0.44977477192878723), ('korea', 0.44896894693374634), ('host', 0.44525906443595886), ('carolina', 0.4431307315826416), ('mercilessly', 0.4207913279533386)]\n"
     ]
    }
   ],
   "source": [
    "print(\"Word2Vec:\",w2v_t.wv.most_similar(positive=[\"trump\"], negative=[\"hillary\"]))"
   ]
  },
  {
   "cell_type": "markdown",
   "metadata": {},
   "source": [
    "When we subtract \"hillary\" from \"trump\", we get the most similar words that are not common between \"trump\" and \"hillary\"."
   ]
  },
  {
   "cell_type": "code",
   "execution_count": 23,
   "metadata": {
    "autoscroll": false,
    "ein.hycell": false,
    "ein.tags": "worksheet-0",
    "slideshow": {
     "slide_type": "-"
    }
   },
   "outputs": [],
   "source": [
    "from scipy.spatial.distance import pdist,squareform\n",
    "import seaborn as sns\n",
    "\n",
    "def visualize_dist(V, tweets, idxs):\n",
    "    \"\"\" Visualize distances in heatmap\n",
    "\n",
    "    V is the vector of embeddings \n",
    "    tweets is a list or series that converts from idx to tweet\n",
    "    idxs is a list of integers that you would like to compare (<= 5 probably)\n",
    "    \"\"\"\n",
    "    m = squareform(pdist(V[idxs], 'cosine'))\n",
    "    _ = sns.heatmap(pd.DataFrame(m, columns = tweets[idxs], index= tweets[idxs]))"
   ]
  },
  {
   "cell_type": "code",
   "execution_count": 41,
   "metadata": {
    "scrolled": false
   },
   "outputs": [
    {
     "data": {
      "image/png": "[encoded data removed]",
      "text/plain": [
       "<Figure size 432x288 with 2 Axes>"
      ]
     },
     "metadata": {
      "needs_background": "light"
     },
     "output_type": "display_data"
    }
   ],
   "source": [
    "count_vectorizer_t = CountVectorizer()\n",
    "svd_t = TruncatedSVD(n_components=100)\n",
    "\n",
    "embedding_matrix_t = count_vectorizer_t.fit_transform(clean_tweets)\n",
    "PCA_t = svd.fit_transform(embedding_matrix_t)\n",
    "visualize_dist(PCA_t, clean_tweets, [55,66,77,88])"
   ]
  },
  {
   "cell_type": "markdown",
   "metadata": {},
   "source": [
    "The distance calculated with the visualize_dist function makes sense, although sometimes it can be harder to interpret in comparison to Word2Vec."
   ]
  },
  {
   "cell_type": "code",
   "execution_count": null,
   "metadata": {
    "autoscroll": false,
    "ein.hycell": false,
    "ein.tags": "worksheet-0",
    "slideshow": {
     "slide_type": "-"
    }
   },
   "outputs": [],
   "source": [
    "# More bonus!\n",
    "# Use one of the following pre-embedded models and see if your yelp scores improve? \n",
    "# What about your Twitter explorations?\n",
    "\n",
    "# https://github.com/RaRe-Technologies/gensim-data"
   ]
  }
 ],
 "metadata": {
  "kernelspec": {
   "display_name": "Python 3",
   "language": "python",
   "name": "python3"
  },
  "language_info": {
   "codemirror_mode": {
    "name": "ipython",
    "version": 3
   },
   "file_extension": ".py",
   "mimetype": "text/x-python",
   "name": "python",
   "nbconvert_exporter": "python",
   "pygments_lexer": "ipython3",
   "version": "3.7.2"
  },
  "name": "exercise-3.ipynb"
 },
 "nbformat": 4,
 "nbformat_minor": 2
}
